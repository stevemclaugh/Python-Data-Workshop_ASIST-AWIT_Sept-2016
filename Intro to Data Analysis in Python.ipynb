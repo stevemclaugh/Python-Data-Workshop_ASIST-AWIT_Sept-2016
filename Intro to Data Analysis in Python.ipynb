{
 "cells": [
  {
   "cell_type": "markdown",
   "metadata": {},
   "source": [
    "# Intro to Data Analysis in Python\n",
    "\n",
    "    Stephen McLaughlin\n",
    "    PhD Student, UT Austin School of Information\n",
    "\n",
    "#### If you haven't already done so, open a terminal window and use the following command to install the libraries we'll use below.\n",
    "\n",
    "    pip install -U pandas scipy matplotlib\n",
    "    \n",
    "If you don't already have Python, install it [using Anaconda](https://www.continuum.io/downloads) for OS X / Windows / Linux or follow [this walkthrough](https://github.com/stevemclaugh/Python-Data-Workshop_ASIST-AWIT_Sept-2016/blob/master/README.md) for getting set up on OS X."
   ]
  },
  {
   "cell_type": "code",
   "execution_count": null,
   "metadata": {
    "collapsed": true
   },
   "outputs": [],
   "source": [
    "import numpy as np\n",
    "import pandas as pd\n",
    "import matplotlib.pyplot as plt\n",
    "import scipy.stats"
   ]
  },
  {
   "cell_type": "markdown",
   "metadata": {},
   "source": [
    "## Python Syntax Basics"
   ]
  },
  {
   "cell_type": "code",
   "execution_count": null,
   "metadata": {
    "collapsed": false
   },
   "outputs": [],
   "source": [
    "print \"Hello Jupyter!\"\n",
    "print \"Hello\"+\" Jupyter!\""
   ]
  },
  {
   "cell_type": "code",
   "execution_count": null,
   "metadata": {
    "collapsed": false
   },
   "outputs": [],
   "source": [
    "# Integer arithmetic\n",
    "\n",
    "int1=10000\n",
    "int2=150\n",
    "\n",
    "print int1+int2 # add\n",
    "print int1-int2 # subtract\n",
    "print int1*int2 # multiply\n",
    "print int1/int2 # divide"
   ]
  },
  {
   "cell_type": "code",
   "execution_count": null,
   "metadata": {
    "collapsed": false
   },
   "outputs": [],
   "source": [
    "# Floating point arithmetic\n",
    "\n",
    "float1=10000.0\n",
    "float2=150.5\n",
    "\n",
    "print float1+float2 # add\n",
    "print float1-float2 # subtract\n",
    "print float1*float2 # multiply\n",
    "print float1/float2 # divide"
   ]
  },
  {
   "cell_type": "code",
   "execution_count": null,
   "metadata": {
    "collapsed": false
   },
   "outputs": [],
   "source": [
    "## Turning a sentence string into a list of words\n",
    "\n",
    "sentence=\"A green hunting cap squeezed the top of a fleshy balloon of a head.\"\n",
    "\n",
    "word_list=sentence.split(\" \")\n",
    "\n",
    "print word_list"
   ]
  },
  {
   "cell_type": "markdown",
   "metadata": {},
   "source": [
    "## Working with Lists\n",
    "#### Data: average weight of chickens in 8 population blocks\n",
    "\n",
    "Snee, R.D. (1985) Graphical display of results of three-treatment randomized block experiments. _Applied Statistics_, 34, 71-7."
   ]
  },
  {
   "cell_type": "code",
   "execution_count": null,
   "metadata": {
    "collapsed": true
   },
   "outputs": [],
   "source": [
    "## Creating lists and assigning them to variables\n",
    "\n",
    "control=[3.93, 3.78, 3.88, 3.93, 3.84, 3.75, 3.98, 3.84]\n",
    "\n",
    "low_dose=[3.99, 3.96, 3.96, 4.03, 4.10, 4.02, 4.06, 3.92]\n",
    "\n",
    "high_dose=[3.96, 3.94, 4.02, 4.06, 3.94, 4.09, 4.17, 4.12]"
   ]
  },
  {
   "cell_type": "code",
   "execution_count": null,
   "metadata": {
    "collapsed": false
   },
   "outputs": [],
   "source": [
    "## Select an item from a list by its index\n",
    "\n",
    "control[3]"
   ]
  },
  {
   "cell_type": "code",
   "execution_count": null,
   "metadata": {
    "collapsed": false
   },
   "outputs": [],
   "source": [
    "## Split a list into sub-lists based on index ranges\n",
    "\n",
    "print control[2:5]\n",
    "\n",
    "print control[2:]\n",
    "\n",
    "print control[:4]"
   ]
  },
  {
   "cell_type": "markdown",
   "metadata": {},
   "source": [
    "## Descriptive Statistics with NumPy and scipy.stats"
   ]
  },
  {
   "cell_type": "code",
   "execution_count": null,
   "metadata": {
    "collapsed": false
   },
   "outputs": [],
   "source": [
    "## Use NumPy to calculate mean values for lists of numbers\n",
    "\n",
    "import numpy as np\n",
    "\n",
    "print np.mean(control)\n",
    "\n",
    "print np.mean(low_dose)\n",
    "\n",
    "print np.mean(high_dose)"
   ]
  },
  {
   "cell_type": "code",
   "execution_count": null,
   "metadata": {
    "collapsed": false
   },
   "outputs": [],
   "source": [
    "## Use scipy.stats to calculate several descriptive statistics in one step\n",
    "\n",
    "import scipy.stats\n",
    "\n",
    "print scipy.stats.describe(control)"
   ]
  },
  {
   "cell_type": "markdown",
   "metadata": {},
   "source": [
    "## Hypothesis Testing with scipy.stats"
   ]
  },
  {
   "cell_type": "code",
   "execution_count": null,
   "metadata": {
    "collapsed": false,
    "scrolled": true
   },
   "outputs": [],
   "source": [
    "## Running t-tests (assuming data is distributed normally)\n",
    "\n",
    "import scipy.stats\n",
    "\n",
    "print scipy.stats.ttest_ind(control,low_dose)\n",
    "\n",
    "print scipy.stats.ttest_ind(control,high_dose)\n",
    "\n",
    "print scipy.stats.ttest_ind(low_dose,high_dose)\n",
    "\n",
    "# Returns t-statistic and two-tailed p-value"
   ]
  },
  {
   "cell_type": "code",
   "execution_count": null,
   "metadata": {
    "collapsed": false
   },
   "outputs": [],
   "source": [
    "## Running Mann-Whitney U tests (a nonparametric test; no normality assumption)\n",
    "\n",
    "print scipy.stats.mannwhitneyu(control,low_dose)\n",
    "\n",
    "print scipy.stats.mannwhitneyu(control,high_dose)\n",
    "\n",
    "print scipy.stats.mannwhitneyu(low_dose,high_dose)"
   ]
  },
  {
   "cell_type": "markdown",
   "metadata": {
    "collapsed": true
   },
   "source": [
    "## Working with Tabular Data in pandas\n",
    "\n",
    "Example adapted from http://nbviewer.jupyter.org/urls/bitbucket.org/hrojas/learn-pandas/raw/master/lessons/01%20-%20Lesson.ipynb"
   ]
  },
  {
   "cell_type": "code",
   "execution_count": null,
   "metadata": {
    "collapsed": false
   },
   "outputs": [],
   "source": [
    "## Create a table with 5 rows and 2 columns\n",
    "\n",
    "import pandas as pd\n",
    "\n",
    "names = ['Mel','Jessica','Mary','John','Bob']\n",
    "\n",
    "births = [973, 155, 77, 578, 968]\n",
    "\n",
    "baby_data = zip(names,births)\n",
    "\n",
    "baby_data"
   ]
  },
  {
   "cell_type": "code",
   "execution_count": null,
   "metadata": {
    "collapsed": false
   },
   "outputs": [],
   "source": [
    "## Print each row in our table on a separate line\n",
    "\n",
    "for row in baby_data:\n",
    "    print row"
   ]
  },
  {
   "cell_type": "code",
   "execution_count": null,
   "metadata": {
    "collapsed": false
   },
   "outputs": [],
   "source": [
    "## Load table into pandas DataFrame object\n",
    "\n",
    "baby_df = pd.DataFrame(data = baby_data, columns=['Names', 'Births'])\n",
    "\n",
    "baby_df"
   ]
  },
  {
   "cell_type": "code",
   "execution_count": null,
   "metadata": {
    "collapsed": false
   },
   "outputs": [],
   "source": [
    "## Select first 3 rows in DataFrame using index range\n",
    "\n",
    "baby_df[:3]"
   ]
  },
  {
   "cell_type": "code",
   "execution_count": null,
   "metadata": {
    "collapsed": false
   },
   "outputs": [],
   "source": [
    "## Sort DataFrame by numerical values in 'Birth' column\n",
    "\n",
    "baby_df.sort_values(['Births'], ascending=False)"
   ]
  },
  {
   "cell_type": "code",
   "execution_count": null,
   "metadata": {
    "collapsed": false
   },
   "outputs": [],
   "source": [
    "## Sort DataFrame alphabetically by string values in 'Names' column\n",
    "\n",
    "baby_df.sort_values(['Names'], ascending=True)"
   ]
  },
  {
   "cell_type": "code",
   "execution_count": null,
   "metadata": {
    "collapsed": false
   },
   "outputs": [],
   "source": [
    "## Calculate mean for values in 'Births' column\n",
    "\n",
    "baby_df['Births'].mean()"
   ]
  },
  {
   "cell_type": "code",
   "execution_count": null,
   "metadata": {
    "collapsed": false
   },
   "outputs": [],
   "source": [
    "## Same calculation as above, using NumPy directly\n",
    "\n",
    "np.mean(baby_df['Births'])"
   ]
  },
  {
   "cell_type": "code",
   "execution_count": null,
   "metadata": {
    "collapsed": false
   },
   "outputs": [],
   "source": [
    "## Return the max value in 'Births' column\n",
    "\n",
    "baby_df['Births'].max()"
   ]
  },
  {
   "cell_type": "code",
   "execution_count": null,
   "metadata": {
    "collapsed": false
   },
   "outputs": [],
   "source": [
    "## Returns a full column as a pandas Series object\n",
    "\n",
    "baby_df['Births']"
   ]
  },
  {
   "cell_type": "code",
   "execution_count": null,
   "metadata": {
    "collapsed": false
   },
   "outputs": [],
   "source": [
    "## ...which we can convert to a plain Python list for convenient use outside pandas\n",
    "\n",
    "list(baby_df['Births'])"
   ]
  },
  {
   "cell_type": "markdown",
   "metadata": {},
   "source": [
    "## Importing Data from a CSV\n",
    "\n",
    "#### Data: girth, height, and volume for black cherry trees\n",
    "\n",
    "data from https://vincentarelbundock.github.io/Rdatasets/datasets.html"
   ]
  },
  {
   "cell_type": "code",
   "execution_count": null,
   "metadata": {
    "collapsed": true
   },
   "outputs": [],
   "source": [
    "import pandas as pd\n",
    "\n",
    "cherry_tree_data = pd.read_csv(\"https://vincentarelbundock.github.io/Rdatasets/csv/datasets/trees.csv\")"
   ]
  },
  {
   "cell_type": "code",
   "execution_count": null,
   "metadata": {
    "collapsed": false
   },
   "outputs": [],
   "source": [
    "## Select first 5 rows in DataFrame\n",
    "\n",
    "cherry_tree_data.head()"
   ]
  },
  {
   "cell_type": "code",
   "execution_count": null,
   "metadata": {
    "collapsed": false
   },
   "outputs": [],
   "source": [
    "## Select last 5 rows in DataFrame\n",
    "\n",
    "cherry_tree_data.tail()"
   ]
  },
  {
   "cell_type": "code",
   "execution_count": null,
   "metadata": {
    "collapsed": false
   },
   "outputs": [],
   "source": [
    "## Removing unnecessary index column\n",
    "\n",
    "cherry_tree_data = cherry_tree_data.drop('Unnamed: 0', 1)"
   ]
  },
  {
   "cell_type": "code",
   "execution_count": null,
   "metadata": {
    "collapsed": false
   },
   "outputs": [],
   "source": [
    "## Select first 5 rows in updated DataFrame\n",
    "\n",
    "cherry_tree_data.head()"
   ]
  },
  {
   "cell_type": "code",
   "execution_count": null,
   "metadata": {
    "collapsed": false
   },
   "outputs": [],
   "source": [
    "## Select rows with 'Height' values greater than 80\n",
    "\n",
    "cherry_tree_data[cherry_tree_data['Height']>80]"
   ]
  },
  {
   "cell_type": "code",
   "execution_count": null,
   "metadata": {
    "collapsed": false
   },
   "outputs": [],
   "source": [
    "## Select 2 columns in DataFrame and display in different order\n",
    "\n",
    "cherry_tree_data[['Height','Girth']]"
   ]
  },
  {
   "cell_type": "code",
   "execution_count": null,
   "metadata": {
    "collapsed": false
   },
   "outputs": [],
   "source": [
    "## Calculate mean cherry tree height\n",
    "\n",
    "cherry_tree_data['Height'].mean()"
   ]
  },
  {
   "cell_type": "code",
   "execution_count": null,
   "metadata": {
    "collapsed": false
   },
   "outputs": [],
   "source": [
    "## Display descriptive statistics for values in 'Height' column\n",
    "\n",
    "cherry_tree_data['Height'].describe()"
   ]
  },
  {
   "cell_type": "markdown",
   "metadata": {},
   "source": [
    "## Creating Graphs with matplotlib"
   ]
  },
  {
   "cell_type": "code",
   "execution_count": null,
   "metadata": {
    "collapsed": true
   },
   "outputs": [],
   "source": [
    "import matplotlib.pyplot as plt\n",
    "\n",
    "## The following line tells Jupyter to display graphs within our Jupyter notebook:\n",
    "%matplotlib inline"
   ]
  },
  {
   "cell_type": "code",
   "execution_count": null,
   "metadata": {
    "collapsed": false
   },
   "outputs": [],
   "source": [
    "## Create a histogram for values in 'Height' column\n",
    "\n",
    "cherry_tree_data['Height'].hist()"
   ]
  },
  {
   "cell_type": "code",
   "execution_count": null,
   "metadata": {
    "collapsed": false
   },
   "outputs": [],
   "source": [
    "## Change matplotlib style and display histogram for same data\n",
    "\n",
    "plt.style.use('ggplot')\n",
    "\n",
    "plt.figure(figsize=(18,8))\n",
    "\n",
    "cherry_tree_data['Height'].hist()"
   ]
  },
  {
   "cell_type": "code",
   "execution_count": null,
   "metadata": {
    "collapsed": false
   },
   "outputs": [],
   "source": [
    "## View list of built-in matplotlib styles\n",
    "\n",
    "plt.style.available"
   ]
  },
  {
   "cell_type": "code",
   "execution_count": null,
   "metadata": {
    "collapsed": false
   },
   "outputs": [],
   "source": [
    "## Plot 'Height' values as if they were a time series\n",
    "\n",
    "cherry_tree_data['Height'].plot()"
   ]
  },
  {
   "cell_type": "code",
   "execution_count": null,
   "metadata": {
    "collapsed": false
   },
   "outputs": [],
   "source": [
    "## Create a scatter plot for 'Height' vs. 'Girth' values\n",
    "\n",
    "plt.scatter(cherry_tree_data['Height'], cherry_tree_data['Girth'])"
   ]
  },
  {
   "cell_type": "code",
   "execution_count": null,
   "metadata": {
    "collapsed": false
   },
   "outputs": [],
   "source": [
    "## Test correlation for 'Height' vs. 'Girth' using scipy.stats function for Pearson's r\n",
    "\n",
    "scipy.stats.pearsonr(cherry_tree_data['Height'],cherry_tree_data['Girth'])\n",
    "\n",
    "# returns correlation coefficient and p-value"
   ]
  },
  {
   "cell_type": "markdown",
   "metadata": {
    "collapsed": true
   },
   "source": [
    "## Further reading\n",
    "\n",
    "#### General Python data analysis overviews\n",
    "- http://www.scipy.org/getting-started.html\n",
    "- http://www.scipy-lectures.org\n",
    "\n",
    "#### Video courses on Lynda.com\n",
    "To access videos on [Lynda](http://lynda.com), click “Log in,” then choose “Sign in with your organization portal.”\n",
    "Type “utexas.edu” and enter your UT EID and password.\n",
    "- “Introduction to Data Analysis with Python,” taught by Michele Vallisneri ([link](https://www.lynda.com/Numpy-tutorials/Introduction-Data-Analysis-Python/419162-2.html))\n",
    "- “Up and Running with Python,” taught by Joe Marini ([link](http://www.lynda.com/Python-tutorials/Welcome/122467/142550-4.html))\n",
    "\n",
    "#### NumPy quickstart\n",
    "- http://docs.scipy.org/doc/numpy-dev/user/quickstart.html\n",
    "\n",
    "#### Lessons for new pandas users\n",
    "- http://pandas.pydata.org/pandas-docs/stable/tutorials.html#lessons-for-new-pandas-users\n",
    "\n",
    "#### matplotlib graph gallery\n",
    "- http://matplotlib.org/gallery.html\n",
    "\n",
    "#### A collection of handy code snippets\n",
    "- http://chrisalbon.com\n"
   ]
  },
  {
   "cell_type": "markdown",
   "metadata": {
    "collapsed": true
   },
   "source": [
    "<a rel=\"license\"\n",
    "     href=\"http://creativecommons.org/publicdomain/zero/1.0/\">\n",
    "    <img src=\"http://i.creativecommons.org/p/zero/1.0/88x31.png\" style=\"border-style: none;\" alt=\"CC0\" />\n",
    "  </a>"
   ]
  }
 ],
 "metadata": {
  "kernelspec": {
   "display_name": "Python 2",
   "language": "python",
   "name": "python2"
  },
  "language_info": {
   "codemirror_mode": {
    "name": "ipython",
    "version": 2
   },
   "file_extension": ".py",
   "mimetype": "text/x-python",
   "name": "python",
   "nbconvert_exporter": "python",
   "pygments_lexer": "ipython2",
   "version": "2.7.11"
  }
 },
 "nbformat": 4,
 "nbformat_minor": 1
}
